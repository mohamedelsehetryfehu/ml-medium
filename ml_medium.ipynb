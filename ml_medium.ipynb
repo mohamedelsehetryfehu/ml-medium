{
  "nbformat": 4,
  "nbformat_minor": 0,
  "metadata": {
    "colab": {
      "provenance": [],
      "collapsed_sections": [
        "LtonzrI8mD6F"
      ],
      "include_colab_link": true
    },
    "kernelspec": {
      "name": "python3",
      "display_name": "Python 3"
    },
    "language_info": {
      "name": "python"
    }
  },
  "cells": [
    {
      "cell_type": "markdown",
      "metadata": {
        "id": "view-in-github",
        "colab_type": "text"
      },
      "source": [
        "<a href=\"https://colab.research.google.com/github/mohamedelsehetryfehu/ml-medium/blob/main/ml_medium.ipynb\" target=\"_parent\"><img src=\"https://colab.research.google.com/assets/colab-badge.svg\" alt=\"Open In Colab\"/></a>"
      ]
    },
    {
      "cell_type": "markdown",
      "source": [
        "# **Noor**"
      ],
      "metadata": {
        "id": "A000_9NfqrHb"
      }
    },
    {
      "cell_type": "code",
      "execution_count": null,
      "metadata": {
        "colab": {
          "base_uri": "https://localhost:8080/"
        },
        "id": "rFOQlEUxSp3M",
        "outputId": "e23dead4-9124-4e4d-ab1d-23a9245f47b7"
      },
      "outputs": [
        {
          "output_type": "stream",
          "name": "stdout",
          "text": [
            "Mounted at /content/drive\n"
          ]
        }
      ],
      "source": [
        "from google.colab import drive\n",
        "drive.mount('/content/drive')"
      ]
    },
    {
      "cell_type": "code",
      "source": [
        "import numpy as np\n",
        "from sklearn.ensemble import RandomForestClassifier\n",
        "from sklearn.model_selection import train_test_split\n",
        "from sklearn.preprocessing import StandardScaler\n",
        "from sklearn.metrics import accuracy_score\n",
        "\n",
        "# Generate additional points for class 1 using data augmentation\n",
        "def augment_data(points, target_class, target_count):\n",
        "    augmented_points = []\n",
        "    while len(augmented_points) < target_count:\n",
        "        new_point = [np.random.uniform(min(points[:,0]), max(points[:,0])),\n",
        "                     np.random.uniform(min(points[:,1]), max(points[:,1]))]\n",
        "        augmented_points.append(new_point)\n",
        "    return np.array(augmented_points), np.full(target_count, target_class)\n",
        "\n",
        "# Load the training data\n",
        "# Assuming train_data contains the features (x, y coordinates) and labels (0 or 1)\n",
        "train_data = np.loadtxt('MlMediumTrainingData.csv', delimiter=',')\n",
        "\n",
        "# Split data into features and labels\n",
        "X = train_data[:, :2]\n",
        "y = train_data[:, 2]\n",
        "\n",
        "# Augment data for class 1 to have at least 1500 points\n",
        "class_0_count = np.sum(y == 0)\n",
        "class_1_count = np.sum(y == 1)\n",
        "if class_1_count < 1500:\n",
        "    additional_points, additional_labels = augment_data(X[y == 1], 1, 1500 - class_1_count)\n",
        "    X = np.vstack([X, additional_points])\n",
        "    y = np.hstack([y, additional_labels])\n",
        "\n",
        "# Split data into train and test sets\n",
        "X_train, X_test, y_train, y_test = train_test_split(X, y, test_size=0.2, random_state=42)\n",
        "\n",
        "# Scale features\n",
        "scaler = StandardScaler()\n",
        "X_train_scaled = scaler.fit_transform(X_train)\n",
        "X_test_scaled = scaler.transform(X_test)\n",
        "\n",
        "# Train Random Forest classifier\n",
        "rf_classifier = RandomForestClassifier(n_estimators=100, random_state=42)\n",
        "rf_classifier.fit(X_train_scaled, y_train)\n",
        "\n",
        "# Predict labels for test set\n",
        "y_pred = rf_classifier.predict(X_test_scaled)\n",
        "\n",
        "# Evaluate accuracy\n",
        "accuracy = accuracy_score(y_test, y_pred)\n",
        "print(\"Accuracy:\", accuracy)\n",
        "\n",
        "# Function to predict label for a given point\n",
        "def predict_label(point):\n",
        "    scaled_point = scaler.transform([point])\n",
        "    return rf_classifier.predict(scaled_point)[0]\n",
        "\n",
        "# Example usage\n",
        "input_point = [0, 0]\n",
        "predicted_label = predict_label(input_point)\n",
        "print(\"Input =\", input_point)\n",
        "print(\"Predicted label =\", predicted_label)"
      ],
      "metadata": {
        "id": "AzcI_fCVuzK9"
      },
      "execution_count": null,
      "outputs": []
    },
    {
      "cell_type": "markdown",
      "source": [
        "# **Sehetry**"
      ],
      "metadata": {
        "id": "knHFJuIeqjbw"
      }
    },
    {
      "cell_type": "code",
      "source": [
        "import numpy as np\n",
        "import pandas as pd\n",
        "from sklearn.cluster import DBSCAN\n",
        "import os"
      ],
      "metadata": {
        "id": "XFPaIu2eStbm"
      },
      "execution_count": null,
      "outputs": []
    },
    {
      "cell_type": "code",
      "source": [
        "# Replace 'path/to/your/folder' with the actual path within your Drive\n",
        "os.chdir('/content/drive/MyDrive/Dell/Dataset')"
      ],
      "metadata": {
        "id": "xkS7AAbNSul-"
      },
      "execution_count": null,
      "outputs": []
    },
    {
      "cell_type": "code",
      "source": [
        "# Read the dataset\n",
        "data = pd.read_csv('MlMediumTrainingData.csv')\n"
      ],
      "metadata": {
        "id": "6hmlFgnLWlp9"
      },
      "execution_count": null,
      "outputs": []
    },
    {
      "cell_type": "code",
      "source": [
        "# Data preprocessing\n",
        "x_values = data['x_'].values\n",
        "y_values = data['y_'].values\n",
        "\n",
        "point = [[x, y] for x, y in zip(x_values, y_values)]\n",
        "\n",
        "points = np.array(point)\n",
        "point_class = np.array(data[\"class\"])\n"
      ],
      "metadata": {
        "id": "Ra09ZY1iqH__"
      },
      "execution_count": null,
      "outputs": []
    },
    {
      "cell_type": "code",
      "source": [
        "import numpy as np\n",
        "from sklearn.model_selection import train_test_split\n",
        "from sklearn.linear_model import LogisticRegression\n",
        "import joblib\n",
        "\n",
        "def train_classifier(features, labels):\n",
        "    # Split data into train and test sets\n",
        "    X_train, X_test, y_train, y_test = train_test_split(features, labels, test_size=0.2, random_state=42)\n",
        "\n",
        "    # Initialize and train a classifier\n",
        "    classifier = LogisticRegression()\n",
        "    classifier.fit(X_train, y_train)\n",
        "\n",
        "    # Evaluate the classifier\n",
        "    accuracy = classifier.score(X_test, y_test)\n",
        "    print(\"Classifier Accuracy:\", accuracy)\n",
        "\n",
        "    # Save the trained classifier\n",
        "    joblib.dump(classifier, 'connected_components_classifier.pkl')\n",
        "\n",
        "    return classifier\n",
        "\n",
        "def predict_label(classifier, point):\n",
        "    # Predict label for the given point\n",
        "    predicted_label = classifier.predict(point.reshape(1, -1))\n",
        "    return predicted_label[0]\n",
        "\n",
        "# Data preprocessing\n",
        "x_values = data['x_'].values\n",
        "y_values = data['y_'].values\n",
        "\n",
        "point = [[x, y] for x, y in zip(x_values, y_values)]\n",
        "\n",
        "points = np.array(point)\n",
        "point_class = np.array(data[\"class\"])\n",
        "\n",
        "# Example usage\n",
        "input_point = np.array([13.05630213,  -0.05915416])\n",
        "features = points\n",
        "labels = point_class\n",
        "\n",
        "classifier = train_classifier(features, labels)\n",
        "predicted_label = predict_label(classifier, input_point)\n",
        "\n",
        "print(\"Predicted label:\", predicted_label)\n"
      ],
      "metadata": {
        "colab": {
          "base_uri": "https://localhost:8080/"
        },
        "id": "vJSZePyzt6gK",
        "outputId": "2e33340e-f1e5-4419-950f-27e106642c35"
      },
      "execution_count": null,
      "outputs": [
        {
          "output_type": "stream",
          "name": "stdout",
          "text": [
            "Classifier Accuracy: 0.9926470588235294\n",
            "Predicted label: 0\n"
          ]
        }
      ]
    }
  ]
}